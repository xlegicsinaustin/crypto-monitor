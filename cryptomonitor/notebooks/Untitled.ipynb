{
 "cells": [
  {
   "cell_type": "code",
   "execution_count": 3,
   "id": "29a041d0",
   "metadata": {},
   "outputs": [],
   "source": [
    "import pandas as pd \n",
    "from sqlalchemy import create_engine\n",
    "import unicorn_binance_websocket_api as unicorn"
   ]
  },
  {
   "cell_type": "code",
   "execution_count": 4,
   "id": "86575d26",
   "metadata": {},
   "outputs": [],
   "source": [
    "#defining engine\n",
    "engine = create_engine('sqlite:///Liveprice.db')\n"
   ]
  },
  {
   "cell_type": "code",
   "execution_count": 5,
   "id": "7ef1c12c",
   "metadata": {},
   "outputs": [],
   "source": [
    "#creating live stream for data\n",
    "ubwa = unicorn.BinanceWebSocketApiManager(exchange='binance.com')"
   ]
  },
  {
   "cell_type": "code",
   "execution_count": 6,
   "id": "91328562",
   "metadata": {},
   "outputs": [
    {
     "data": {
      "text/plain": [
       "'4f219f3aff94-cd7e-036b-cf35-ac3db973'"
      ]
     },
     "execution_count": 6,
     "metadata": {},
     "output_type": "execute_result"
    }
   ],
   "source": [
    "#what live stream data do we want? 1 minute \n",
    "ubwa.create_stream('kline_1m', 'MATICUSDT',output='UnicornFy')"
   ]
  },
  {
   "cell_type": "code",
   "execution_count": 15,
   "id": "0a916efc",
   "metadata": {},
   "outputs": [],
   "source": [
    "data = ubwa.pop_stream_data_from_stream_buffer()"
   ]
  },
  {
   "cell_type": "code",
   "execution_count": 16,
   "id": "2d93d32f",
   "metadata": {},
   "outputs": [
    {
     "data": {
      "text/plain": [
       "{'stream_type': 'maticusdt@kline_1m',\n",
       " 'event_type': 'kline',\n",
       " 'event_time': 1666649444602,\n",
       " 'symbol': 'MATICUSDT',\n",
       " 'kline': {'kline_start_time': 1666649400000,\n",
       "  'kline_close_time': 1666649459999,\n",
       "  'symbol': 'MATICUSDT',\n",
       "  'interval': '1m',\n",
       "  'first_trade_id': False,\n",
       "  'last_trade_id': False,\n",
       "  'open_price': '0.89210000',\n",
       "  'close_price': '0.89230000',\n",
       "  'high_price': '0.89240000',\n",
       "  'low_price': '0.89200000',\n",
       "  'base_volume': '40098.10000000',\n",
       "  'number_of_trades': 59,\n",
       "  'is_closed': False,\n",
       "  'quote': '35772.93614000',\n",
       "  'taker_by_base_asset_volume': '3240.60000000',\n",
       "  'taker_by_quote_asset_volume': '2891.34276000',\n",
       "  'ignore': '0'},\n",
       " 'unicorn_fied': ['binance.com', '0.12.2']}"
      ]
     },
     "execution_count": 16,
     "metadata": {},
     "output_type": "execute_result"
    }
   ],
   "source": [
    "data"
   ]
  },
  {
   "cell_type": "code",
   "execution_count": 17,
   "id": "21f25148",
   "metadata": {},
   "outputs": [],
   "source": [
    "def SQLimport(data):\n",
    "    time = pd.to_datetime(data['event_time'],unit='ms')\n",
    "    close = float(data['kline']['close_price'])\n",
    "    frame = pd.DataFrame({'timestamp':time,'price':close},index=[0])\n",
    "    frame.to_sql(data['symbol'],engine,index=False,if_exists='append')"
   ]
  },
  {
   "cell_type": "code",
   "execution_count": 18,
   "id": "c3ea7ea7",
   "metadata": {
    "scrolled": false
   },
   "outputs": [
    {
     "ename": "KeyboardInterrupt",
     "evalue": "",
     "output_type": "error",
     "traceback": [
      "\u001b[0;31m---------------------------------------------------------------------------\u001b[0m",
      "\u001b[0;31mKeyboardInterrupt\u001b[0m                         Traceback (most recent call last)",
      "Cell \u001b[0;32mIn [18], line 3\u001b[0m\n\u001b[1;32m      1\u001b[0m \u001b[38;5;66;03m#check we're getitng data from the stream\u001b[39;00m\n\u001b[1;32m      2\u001b[0m \u001b[38;5;28;01mwhile\u001b[39;00m \u001b[38;5;28;01mTrue\u001b[39;00m:\n\u001b[0;32m----> 3\u001b[0m     data \u001b[38;5;241m=\u001b[39m \u001b[43mubwa\u001b[49m\u001b[38;5;241;43m.\u001b[39;49m\u001b[43mpop_stream_data_from_stream_buffer\u001b[49m\u001b[43m(\u001b[49m\u001b[43m)\u001b[49m\n\u001b[1;32m      4\u001b[0m     \u001b[38;5;28;01mif\u001b[39;00m data \u001b[38;5;129;01mand\u001b[39;00m \u001b[38;5;28mlen\u001b[39m(data) \u001b[38;5;241m>\u001b[39m\u001b[38;5;241m3\u001b[39m:\n\u001b[1;32m      5\u001b[0m        SQLimport(data)\n",
      "File \u001b[0;32m~/.local/lib/python3.10/site-packages/unicorn_binance_websocket_api/manager.py:2824\u001b[0m, in \u001b[0;36mBinanceWebSocketApiManager.pop_stream_data_from_stream_buffer\u001b[0;34m(self, stream_buffer_name, mode)\u001b[0m\n\u001b[1;32m   2822\u001b[0m \u001b[38;5;28;01mtry\u001b[39;00m:\n\u001b[1;32m   2823\u001b[0m     \u001b[38;5;28;01mwith\u001b[39;00m \u001b[38;5;28mself\u001b[39m\u001b[38;5;241m.\u001b[39mstream_buffer_lock:\n\u001b[0;32m-> 2824\u001b[0m         \u001b[38;5;28;01mif\u001b[39;00m \u001b[43mmode\u001b[49m\u001b[38;5;241;43m.\u001b[39;49m\u001b[43mupper\u001b[49m\u001b[43m(\u001b[49m\u001b[43m)\u001b[49m \u001b[38;5;241m==\u001b[39m \u001b[38;5;124m\"\u001b[39m\u001b[38;5;124mFIFO\u001b[39m\u001b[38;5;124m\"\u001b[39m:\n\u001b[1;32m   2825\u001b[0m             stream_data \u001b[38;5;241m=\u001b[39m \u001b[38;5;28mself\u001b[39m\u001b[38;5;241m.\u001b[39mstream_buffer\u001b[38;5;241m.\u001b[39mpopleft()\n\u001b[1;32m   2826\u001b[0m         \u001b[38;5;28;01melif\u001b[39;00m mode\u001b[38;5;241m.\u001b[39mupper() \u001b[38;5;241m==\u001b[39m \u001b[38;5;124m\"\u001b[39m\u001b[38;5;124mLIFO\u001b[39m\u001b[38;5;124m\"\u001b[39m:\n",
      "\u001b[0;31mKeyboardInterrupt\u001b[0m: "
     ]
    }
   ],
   "source": [
    "#check we're getitng data from the stream\n",
    "while True:\n",
    "    data = ubwa.pop_stream_data_from_stream_buffer()\n",
    "    if data and len(data) >3:\n",
    "       SQLimport(data)"
   ]
  },
  {
   "cell_type": "code",
   "execution_count": 22,
   "id": "4cf1b7bc",
   "metadata": {},
   "outputs": [],
   "source": [
    "def open_db():\n",
    "    \"\"\"\n",
    "    open the database\n",
    "    \"\"\"\n",
    "    engine = sql.create_engine('sqlite:///Liveprice.db')\n",
    "    return engine\n",
    "\n",
    "def SQLimport(data):\n",
    "    \"\"\"\n",
    "    function to import the live data into our database\n",
    "    \"\"\"\n",
    "    time = pd.to_datetime(data['event_time'],unit='ms')\n",
    "    close = float(data['kline']['close_price'])\n",
    "    frame = pd.DataFrame({'timestamp':time,'price':close},index=[0])\n",
    "    frame.to_sql(data['symbol'],engine,index=False,if_exists='append')\n",
    "    \n",
    "def get_live_price():\n",
    "    \"\"\"\n",
    "    get live price of asset\n",
    "    \"\"\"\n",
    "    #creating live stream for data\n",
    "    ubwa = unicorn.BinanceWebSocketApiManager(exchange='binance.com')\n",
    "\n",
    "    # live stream data interval 1 minute \n",
    "    ubwa.create_stream('kline_1m', 'MATICUSDT',output='UnicornFy')\n",
    "\n",
    "    data = ubwa.pop_stream_data_from_stream_buffer()\n",
    "\n",
    "    #import data from the stream\n",
    "    while True:\n",
    "        data = ubwa.pop_stream_data_from_stream_buffer()\n",
    "        if data and len(data) >3:\n",
    "            SQLimport(data)"
   ]
  },
  {
   "cell_type": "code",
   "execution_count": 24,
   "id": "97c767d3",
   "metadata": {},
   "outputs": [],
   "source": [
    "import sqlalchemy as sql"
   ]
  },
  {
   "cell_type": "code",
   "execution_count": 25,
   "id": "446d5b7e",
   "metadata": {
    "scrolled": true
   },
   "outputs": [
    {
     "data": {
      "text/plain": [
       "Engine(sqlite:///Liveprice.db)"
      ]
     },
     "execution_count": 25,
     "metadata": {},
     "output_type": "execute_result"
    }
   ],
   "source": [
    "open_db()"
   ]
  },
  {
   "cell_type": "code",
   "execution_count": 26,
   "id": "df7005a3",
   "metadata": {},
   "outputs": [
    {
     "ename": "KeyboardInterrupt",
     "evalue": "",
     "output_type": "error",
     "traceback": [
      "\u001b[0;31m---------------------------------------------------------------------------\u001b[0m",
      "\u001b[0;31mKeyboardInterrupt\u001b[0m                         Traceback (most recent call last)",
      "Cell \u001b[0;32mIn [26], line 1\u001b[0m\n\u001b[0;32m----> 1\u001b[0m \u001b[43mget_live_price\u001b[49m\u001b[43m(\u001b[49m\u001b[43m)\u001b[49m\n",
      "Cell \u001b[0;32mIn [22], line 31\u001b[0m, in \u001b[0;36mget_live_price\u001b[0;34m()\u001b[0m\n\u001b[1;32m     29\u001b[0m \u001b[38;5;66;03m#import data from the stream\u001b[39;00m\n\u001b[1;32m     30\u001b[0m \u001b[38;5;28;01mwhile\u001b[39;00m \u001b[38;5;28;01mTrue\u001b[39;00m:\n\u001b[0;32m---> 31\u001b[0m     data \u001b[38;5;241m=\u001b[39m \u001b[43mubwa\u001b[49m\u001b[38;5;241;43m.\u001b[39;49m\u001b[43mpop_stream_data_from_stream_buffer\u001b[49m\u001b[43m(\u001b[49m\u001b[43m)\u001b[49m\n\u001b[1;32m     32\u001b[0m     \u001b[38;5;28;01mif\u001b[39;00m data \u001b[38;5;129;01mand\u001b[39;00m \u001b[38;5;28mlen\u001b[39m(data) \u001b[38;5;241m>\u001b[39m\u001b[38;5;241m3\u001b[39m:\n\u001b[1;32m     33\u001b[0m         SQLimport(data)\n",
      "File \u001b[0;32m~/.local/lib/python3.10/site-packages/unicorn_binance_websocket_api/manager.py:2824\u001b[0m, in \u001b[0;36mBinanceWebSocketApiManager.pop_stream_data_from_stream_buffer\u001b[0;34m(self, stream_buffer_name, mode)\u001b[0m\n\u001b[1;32m   2822\u001b[0m \u001b[38;5;28;01mtry\u001b[39;00m:\n\u001b[1;32m   2823\u001b[0m     \u001b[38;5;28;01mwith\u001b[39;00m \u001b[38;5;28mself\u001b[39m\u001b[38;5;241m.\u001b[39mstream_buffer_lock:\n\u001b[0;32m-> 2824\u001b[0m         \u001b[38;5;28;01mif\u001b[39;00m \u001b[43mmode\u001b[49m\u001b[38;5;241;43m.\u001b[39;49m\u001b[43mupper\u001b[49m\u001b[43m(\u001b[49m\u001b[43m)\u001b[49m \u001b[38;5;241m==\u001b[39m \u001b[38;5;124m\"\u001b[39m\u001b[38;5;124mFIFO\u001b[39m\u001b[38;5;124m\"\u001b[39m:\n\u001b[1;32m   2825\u001b[0m             stream_data \u001b[38;5;241m=\u001b[39m \u001b[38;5;28mself\u001b[39m\u001b[38;5;241m.\u001b[39mstream_buffer\u001b[38;5;241m.\u001b[39mpopleft()\n\u001b[1;32m   2826\u001b[0m         \u001b[38;5;28;01melif\u001b[39;00m mode\u001b[38;5;241m.\u001b[39mupper() \u001b[38;5;241m==\u001b[39m \u001b[38;5;124m\"\u001b[39m\u001b[38;5;124mLIFO\u001b[39m\u001b[38;5;124m\"\u001b[39m:\n",
      "\u001b[0;31mKeyboardInterrupt\u001b[0m: "
     ]
    }
   ],
   "source": [
    "get_live_price()"
   ]
  },
  {
   "cell_type": "code",
   "execution_count": null,
   "id": "e0017922",
   "metadata": {},
   "outputs": [],
   "source": []
  }
 ],
 "metadata": {
  "kernelspec": {
   "display_name": "Python 3 (ipykernel)",
   "language": "python",
   "name": "python3"
  },
  "language_info": {
   "codemirror_mode": {
    "name": "ipython",
    "version": 3
   },
   "file_extension": ".py",
   "mimetype": "text/x-python",
   "name": "python",
   "nbconvert_exporter": "python",
   "pygments_lexer": "ipython3",
   "version": "3.10.8"
  }
 },
 "nbformat": 4,
 "nbformat_minor": 5
}
