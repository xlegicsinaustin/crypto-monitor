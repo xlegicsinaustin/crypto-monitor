{
 "cells": [
  {
   "cell_type": "code",
   "execution_count": 1,
   "id": "a9c02690",
   "metadata": {},
   "outputs": [
    {
     "name": "stderr",
     "output_type": "stream",
     "text": [
      "/usr/lib/python3.10/site-packages/requests/__init__.py:102: RequestsDependencyWarning: urllib3 (1.26.9) or chardet (5.0.0)/charset_normalizer (None) doesn't match a supported version!\n",
      "  warnings.warn(\"urllib3 ({}) or chardet ({})/charset_normalizer ({}) doesn't match a supported \"\n"
     ]
    }
   ],
   "source": [
    "import pandas as pd \n",
    "from sqlalchemy import create_engine\n",
    "import unicorn_binance_websocket_api as unicorn"
   ]
  },
  {
   "cell_type": "code",
   "execution_count": 2,
   "id": "0e2e37df",
   "metadata": {},
   "outputs": [],
   "source": [
    "#defining engine\n",
    "engine = create_engine('sqlite:///Liveprice.db')"
   ]
  },
  {
   "cell_type": "code",
   "execution_count": null,
   "id": "8d9d6f10",
   "metadata": {},
   "outputs": [],
   "source": [
    "df = pd.read_sql('BTCUSDT',engine)\n",
    "df"
   ]
  },
  {
   "cell_type": "code",
   "execution_count": null,
   "id": "b9c1758d",
   "metadata": {},
   "outputs": [
    {
     "name": "stdout",
     "output_type": "stream",
     "text": [
      "bought for:  24344.2\n"
     ]
    }
   ],
   "source": [
    "profit = 0\n",
    "\n",
    "in_position = False\n",
    "\n",
    "while True:\n",
    "    df = pd.read_sql('BTCUSDT',engine)\n",
    "    last_price = df.price.iloc[-1]\n",
    "    \n",
    "    if not in_position:\n",
    "        if last_price > df.price.mean():\n",
    "            buy_price = last_price\n",
    "            in_position = True\n",
    "            print(\"bought for: \",buy_price)\n",
    "    if in_position:\n",
    "        if last_price > (1.003 * buy_price) or last_price < (0.007 * buy_price):\n",
    "            sell_price = last_price\n",
    "            in_position = False\n",
    "            profit = profit + (sell_price-buy_price)\n",
    "            print(\"sold profit is: \", (sell_price-buy_price))"
   ]
  },
  {
   "cell_type": "code",
   "execution_count": null,
   "id": "61c040b7",
   "metadata": {},
   "outputs": [],
   "source": []
  }
 ],
 "metadata": {
  "kernelspec": {
   "display_name": "Python 3 (ipykernel)",
   "language": "python",
   "name": "python3"
  },
  "language_info": {
   "codemirror_mode": {
    "name": "ipython",
    "version": 3
   },
   "file_extension": ".py",
   "mimetype": "text/x-python",
   "name": "python",
   "nbconvert_exporter": "python",
   "pygments_lexer": "ipython3",
   "version": "3.10.5"
  }
 },
 "nbformat": 4,
 "nbformat_minor": 5
}
